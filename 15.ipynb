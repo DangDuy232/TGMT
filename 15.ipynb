{
 "cells": [
  {
   "cell_type": "code",
   "execution_count": 1,
   "id": "faa39990-4137-4c63-b3e2-5b8cc023462b",
   "metadata": {},
   "outputs": [
    {
     "name": "stdout",
     "output_type": "stream",
     "text": [
      "Requirement already satisfied: scipy in d:\\anaconda\\lib\\site-packages (1.13.1)\n",
      "Requirement already satisfied: numpy<2.3,>=1.22.4 in d:\\anaconda\\lib\\site-packages (from scipy) (1.26.4)\n"
     ]
    }
   ],
   "source": [
    "!pip install scipy"
   ]
  },
  {
   "cell_type": "code",
   "execution_count": 2,
   "id": "27003591-3e20-4379-b58d-fd5bfb4d3efd",
   "metadata": {},
   "outputs": [],
   "source": [
    "from scipy import linalg\n",
    "import numpy as np"
   ]
  },
  {
   "cell_type": "code",
   "execution_count": 3,
   "id": "a3196d7d-b831-4bc2-99ef-f365ebec1fdd",
   "metadata": {},
   "outputs": [
    {
     "name": "stdout",
     "output_type": "stream",
     "text": [
      "Kết quả:  [0.5  2.25]\n"
     ]
    }
   ],
   "source": [
    "# Định nghĩa hệ pt tuyến tính\n",
    "A = np.array([[1, 2], [3, 2]])\n",
    "B = np.array([5, 6])\n",
    "\n",
    "# Giải hệ pt tuyến tính\n",
    "x = linalg.solve(A, B)\n",
    "print(\"Kết quả: \", x)"
   ]
  },
  {
   "cell_type": "code",
   "execution_count": 4,
   "id": "6be961ed-57f2-4ab7-a182-3e30715d2d56",
   "metadata": {},
   "outputs": [
    {
     "name": "stdout",
     "output_type": "stream",
     "text": [
      "Tích phân f(x) từ 1 đến 5:  (73.33333333333333, 8.141635513917814e-13)\n"
     ]
    }
   ],
   "source": [
    "# Tính tích phân của 1 hàm số\n",
    "from scipy import integrate\n",
    "# Định nghĩa f(x)=x^2\n",
    "def my_function(x):\n",
    "    return x**2+x+5;\n",
    "\n",
    "# Tính tích phân của f(x) từ 1 đến 5\n",
    "integral = integrate.quad(my_function, 1, 5);\n",
    "print(\"Tích phân f(x) từ 1 đến 5: \", integral)"
   ]
  },
  {
   "cell_type": "code",
   "execution_count": 5,
   "id": "ce31129e-9e1f-4f00-a82d-fccaa3f095e0",
   "metadata": {},
   "outputs": [
    {
     "name": "stdout",
     "output_type": "stream",
     "text": [
      "Giá trị riêng:  [ 3.82842712+0.j -1.82842712+0.j]\n",
      "Vector riêng:  [[ 0.57735027 -0.57735027]\n",
      " [ 0.81649658  0.81649658]]\n"
     ]
    }
   ],
   "source": [
    "from scipy import linalg\n",
    "import numpy as np\n",
    "\n",
    "# Tính giá trị riêng và vector riêng của 1 ma trận\n",
    "A = np.array([[1,2], [4,1]])\n",
    "\n",
    "# Tính giá trị riêng và vector riêng của ma trận\n",
    "evals, evecs = linalg.eig(A)\n",
    "\n",
    "print(\"Giá trị riêng: \", evals)\n",
    "print(\"Vector riêng: \", evecs)"
   ]
  }
 ],
 "metadata": {
  "kernelspec": {
   "display_name": "Python 3 (ipykernel)",
   "language": "python",
   "name": "python3"
  },
  "language_info": {
   "codemirror_mode": {
    "name": "ipython",
    "version": 3
   },
   "file_extension": ".py",
   "mimetype": "text/x-python",
   "name": "python",
   "nbconvert_exporter": "python",
   "pygments_lexer": "ipython3",
   "version": "3.12.4"
  }
 },
 "nbformat": 4,
 "nbformat_minor": 5
}
